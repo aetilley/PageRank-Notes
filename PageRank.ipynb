{
 "cells": [
  {
   "cell_type": "markdown",
   "metadata": {
    "colab_type": "text",
    "id": "3u8-lotJjzUF"
   },
   "source": [
    "Suppose you were tasked with ranking a collection of web pages.  \n",
    "\n",
    "For instance perhaps you were trying to build a search engine, and wanted to order all results that matched a user's query."
   ]
  },
  {
   "cell_type": "markdown",
   "metadata": {
    "colab_type": "text",
    "id": "dQC5ecpelTrw"
   },
   "source": [
    "We can take advantage of the web's dircted graph structure.\n",
    "\n",
    "![alt text](https://upload.wikimedia.org/wikipedia/commons/thumb/a/a2/Directed.svg/250px-Directed.svg.png)\n",
    "\n",
    "That is, we can consider the \"web graph\" which has all web pages as nodes and an arrow going from one page to another just in case there's a link from the first to the second."
   ]
  },
  {
   "cell_type": "markdown",
   "metadata": {
    "colab_type": "text",
    "id": "slOQTVCjnJ9m"
   },
   "source": [
    "I couldn't find a picture of the web graph, but here's an artist rendition of the internet graph\n",
    "\n",
    "http://www.opte.org"
   ]
  },
  {
   "cell_type": "markdown",
   "metadata": {
    "colab_type": "text",
    "id": "Bd4tMq4CPE_k"
   },
   "source": [
    "Given the graph structure of the internet we might hope to find some quantitative measure of how likely a \"random web surfer\" (someone just randomly clicking links) is to be visiting a web page after a very long surf session.\n"
   ]
  },
  {
   "cell_type": "markdown",
   "metadata": {
    "colab_type": "text",
    "id": "kBA3wlcUoEG3"
   },
   "source": [
    "![alt text](https://memegenerator.net/img/instances/66405812/so-pitted.jpg)"
   ]
  },
  {
   "cell_type": "markdown",
   "metadata": {
    "colab_type": "text",
    "id": "FW_nlGcBKfRI"
   },
   "source": [
    "Let's take a concrete example of a very small web and see if we can formalize this."
   ]
  },
  {
   "cell_type": "code",
   "execution_count": 1,
   "metadata": {
    "colab": {
     "height": 34
    },
    "colab_type": "code",
    "collapsed": false,
    "executionInfo": {
     "elapsed": 895,
     "status": "ok",
     "timestamp": 1535665131743,
     "user": {
      "displayName": "Arthur Tilley",
      "photoUrl": "//lh5.googleusercontent.com/-deZhK1VrhDY/AAAAAAAAAAI/AAAAAAAAAgc/S4BZnbkHc44/s50-c-k-no/photo.jpg",
      "userId": "113676833971151847627"
     },
     "user_tz": 420
    },
    "id": "nXTIJa3LQNdr",
    "outputId": "b7203802-0707-44f9-c5f7-fd48b0b86504"
   },
   "outputs": [
    {
     "data": {
      "text/plain": [
       "{'a': {'b', 'c'}, 'b': {'b', 'c', 'd'}, 'c': {}, 'd': {'e'}, 'e': {'d'}}"
      ]
     },
     "execution_count": 1,
     "metadata": {},
     "output_type": "execute_result"
    }
   ],
   "source": [
    "web_graph = {\n",
    "    'a': {'b', 'c'},\n",
    "  'b': {'b', 'c', 'd'},\n",
    "  'c': {},\n",
    "  'd': {'e'},\n",
    "  'e': {'d'}}\n",
    "\n",
    "pages = sorted(web_graph.keys())\n",
    "\n",
    "web_graph"
   ]
  },
  {
   "cell_type": "markdown",
   "metadata": {
    "colab_type": "text",
    "id": "bgaBXR2uq1z4"
   },
   "source": [
    "We want to be able to think about arbrarily long sequences of clicking, so we will imagine that if our surfer runs into a deadend like page  𝑐 , they somehow randomly select a webpage and continue.   Thus there's really no difference between a page linking to nothing and linking to every other page.  Let's modify our graph to reflect this."
   ]
  },
  {
   "cell_type": "code",
   "execution_count": 2,
   "metadata": {
    "colab": {},
    "colab_type": "code",
    "collapsed": true,
    "id": "urIZPfpHqMC-"
   },
   "outputs": [],
   "source": [
    "def remove_dead_ends(graph):\n",
    "  result = graph.copy()\n",
    "  for page in graph:\n",
    "    if len(graph[page])==0:\n",
    "      result[page]=set(graph.keys())\n",
    "  return result\n",
    "  "
   ]
  },
  {
   "cell_type": "code",
   "execution_count": 3,
   "metadata": {
    "colab": {
     "height": 102
    },
    "colab_type": "code",
    "collapsed": false,
    "executionInfo": {
     "elapsed": 394,
     "status": "ok",
     "timestamp": 1535665134499,
     "user": {
      "displayName": "Arthur Tilley",
      "photoUrl": "//lh5.googleusercontent.com/-deZhK1VrhDY/AAAAAAAAAAI/AAAAAAAAAgc/S4BZnbkHc44/s50-c-k-no/photo.jpg",
      "userId": "113676833971151847627"
     },
     "user_tz": 420
    },
    "id": "WBVmvCgKrQoL",
    "outputId": "35522178-50aa-426a-f0a1-cee754c2a963"
   },
   "outputs": [
    {
     "data": {
      "text/plain": [
       "{'a': {'b', 'c'},\n",
       " 'b': {'b', 'c', 'd'},\n",
       " 'c': {'a', 'b', 'c', 'd', 'e'},\n",
       " 'd': {'e'},\n",
       " 'e': {'d'}}"
      ]
     },
     "execution_count": 3,
     "metadata": {},
     "output_type": "execute_result"
    }
   ],
   "source": [
    "web_graph_no_dead = remove_dead_ends(web_graph)\n",
    "\n",
    "web_graph_no_dead"
   ]
  },
  {
   "cell_type": "markdown",
   "metadata": {
    "colab_type": "text",
    "id": "9gmUNY-ViF9O"
   },
   "source": [
    "Now remember that we can represent any graph by an \n",
    "adjacency matrix\n",
    "\n",
    "$$A = \\left[ \\begin{array}{cccc}\n",
    "\\mathbb{1}_{1, 1} & \\mathbb{1}_{1, 2} & \\ldots & \\mathbb{1}_{1, n} \\\\\n",
    "\\mathbb{1}_{2, 1} & \\mathbb{1}_{2, 2} & \\ldots & \\mathbb{1}_{2, n} \\\\\n",
    "\\vdots & \\vdots & \\ddots & \\vdots\\\\\n",
    "\\mathbb{1}_{n, 1} & \\mathbb{1}_{n, 2} & \\ldots & \\mathbb{1}_{n, n} \n",
    "\\end{array} \\right]$$\n",
    "\n",
    "where the value  $\\mathbb{1}_{i, j}$ (in the $i$th row and $j$th column) is defined to be 1 if there is a link from the $j$th page to the $i$th page and 0 otherwise.  For instance given the graph represented by the adjacency list above"
   ]
  },
  {
   "cell_type": "code",
   "execution_count": 4,
   "metadata": {
    "colab": {},
    "colab_type": "code",
    "collapsed": true,
    "id": "sbG1FmuVsZpI"
   },
   "outputs": [],
   "source": [
    "import numpy as np\n",
    "import pandas as pd"
   ]
  },
  {
   "cell_type": "code",
   "execution_count": 5,
   "metadata": {
    "colab": {
     "height": 204
    },
    "colab_type": "code",
    "collapsed": false,
    "executionInfo": {
     "elapsed": 446,
     "status": "ok",
     "timestamp": 1535665193515,
     "user": {
      "displayName": "Arthur Tilley",
      "photoUrl": "//lh5.googleusercontent.com/-deZhK1VrhDY/AAAAAAAAAAI/AAAAAAAAAgc/S4BZnbkHc44/s50-c-k-no/photo.jpg",
      "userId": "113676833971151847627"
     },
     "user_tz": 420
    },
    "id": "U8C7B5Jxg4Uk",
    "outputId": "de63db86-fe45-4283-abb4-bb56fcaa3b9f"
   },
   "outputs": [
    {
     "data": {
      "text/html": [
       "<div>\n",
       "<table border=\"1\" class=\"dataframe\">\n",
       "  <thead>\n",
       "    <tr style=\"text-align: right;\">\n",
       "      <th></th>\n",
       "      <th>a</th>\n",
       "      <th>b</th>\n",
       "      <th>c</th>\n",
       "      <th>d</th>\n",
       "      <th>e</th>\n",
       "    </tr>\n",
       "  </thead>\n",
       "  <tbody>\n",
       "    <tr>\n",
       "      <th>a</th>\n",
       "      <td>0</td>\n",
       "      <td>0</td>\n",
       "      <td>1</td>\n",
       "      <td>0</td>\n",
       "      <td>0</td>\n",
       "    </tr>\n",
       "    <tr>\n",
       "      <th>b</th>\n",
       "      <td>1</td>\n",
       "      <td>1</td>\n",
       "      <td>1</td>\n",
       "      <td>0</td>\n",
       "      <td>0</td>\n",
       "    </tr>\n",
       "    <tr>\n",
       "      <th>c</th>\n",
       "      <td>1</td>\n",
       "      <td>1</td>\n",
       "      <td>1</td>\n",
       "      <td>0</td>\n",
       "      <td>0</td>\n",
       "    </tr>\n",
       "    <tr>\n",
       "      <th>d</th>\n",
       "      <td>0</td>\n",
       "      <td>1</td>\n",
       "      <td>1</td>\n",
       "      <td>0</td>\n",
       "      <td>1</td>\n",
       "    </tr>\n",
       "    <tr>\n",
       "      <th>e</th>\n",
       "      <td>0</td>\n",
       "      <td>0</td>\n",
       "      <td>1</td>\n",
       "      <td>1</td>\n",
       "      <td>0</td>\n",
       "    </tr>\n",
       "  </tbody>\n",
       "</table>\n",
       "</div>"
      ],
      "text/plain": [
       "   a  b  c  d  e\n",
       "a  0  0  1  0  0\n",
       "b  1  1  1  0  0\n",
       "c  1  1  1  0  0\n",
       "d  0  1  1  0  1\n",
       "e  0  0  1  1  0"
      ]
     },
     "execution_count": 5,
     "metadata": {},
     "output_type": "execute_result"
    }
   ],
   "source": [
    "def get_adj_matrix(adj_list): \n",
    "  pages = sorted(adj_list.keys())\n",
    "  A = pd.DataFrame(0, index = pages, columns= pages)\n",
    "  for source in adj_list:\n",
    "    for sink in adj_list[source]:\n",
    "      A.loc[sink, source] = 1\n",
    "  return A\n",
    "      \n",
    "web_matrix = get_adj_matrix(web_graph_no_dead)\n",
    "\n",
    "web_matrix"
   ]
  },
  {
   "cell_type": "markdown",
   "metadata": {
    "colab_type": "text",
    "id": "Qq4GIOKOQxmT"
   },
   "source": [
    "Given these links, and given that the surfer is randomly clicking links, we can get the condictional probabilities of linking to any page from any page just by normalizing each row by its number of nonzero entries."
   ]
  },
  {
   "cell_type": "code",
   "execution_count": 6,
   "metadata": {
    "colab": {
     "height": 204
    },
    "colab_type": "code",
    "collapsed": false,
    "executionInfo": {
     "elapsed": 383,
     "status": "ok",
     "timestamp": 1535665236463,
     "user": {
      "displayName": "Arthur Tilley",
      "photoUrl": "//lh5.googleusercontent.com/-deZhK1VrhDY/AAAAAAAAAAI/AAAAAAAAAgc/S4BZnbkHc44/s50-c-k-no/photo.jpg",
      "userId": "113676833971151847627"
     },
     "user_tz": 420
    },
    "id": "VVj2dRpQtHiv",
    "outputId": "1c0f0828-dc54-40d0-db93-a8e9f1536fbe"
   },
   "outputs": [
    {
     "data": {
      "text/html": [
       "<div>\n",
       "<table border=\"1\" class=\"dataframe\">\n",
       "  <thead>\n",
       "    <tr style=\"text-align: right;\">\n",
       "      <th></th>\n",
       "      <th>a</th>\n",
       "      <th>b</th>\n",
       "      <th>c</th>\n",
       "      <th>d</th>\n",
       "      <th>e</th>\n",
       "    </tr>\n",
       "  </thead>\n",
       "  <tbody>\n",
       "    <tr>\n",
       "      <th>a</th>\n",
       "      <td>0.0</td>\n",
       "      <td>0.000000</td>\n",
       "      <td>0.2</td>\n",
       "      <td>0.0</td>\n",
       "      <td>0.0</td>\n",
       "    </tr>\n",
       "    <tr>\n",
       "      <th>b</th>\n",
       "      <td>0.5</td>\n",
       "      <td>0.333333</td>\n",
       "      <td>0.2</td>\n",
       "      <td>0.0</td>\n",
       "      <td>0.0</td>\n",
       "    </tr>\n",
       "    <tr>\n",
       "      <th>c</th>\n",
       "      <td>0.5</td>\n",
       "      <td>0.333333</td>\n",
       "      <td>0.2</td>\n",
       "      <td>0.0</td>\n",
       "      <td>0.0</td>\n",
       "    </tr>\n",
       "    <tr>\n",
       "      <th>d</th>\n",
       "      <td>0.0</td>\n",
       "      <td>0.333333</td>\n",
       "      <td>0.2</td>\n",
       "      <td>0.0</td>\n",
       "      <td>1.0</td>\n",
       "    </tr>\n",
       "    <tr>\n",
       "      <th>e</th>\n",
       "      <td>0.0</td>\n",
       "      <td>0.000000</td>\n",
       "      <td>0.2</td>\n",
       "      <td>1.0</td>\n",
       "      <td>0.0</td>\n",
       "    </tr>\n",
       "  </tbody>\n",
       "</table>\n",
       "</div>"
      ],
      "text/plain": [
       "     a         b    c    d    e\n",
       "a  0.0  0.000000  0.2  0.0  0.0\n",
       "b  0.5  0.333333  0.2  0.0  0.0\n",
       "c  0.5  0.333333  0.2  0.0  0.0\n",
       "d  0.0  0.333333  0.2  0.0  1.0\n",
       "e  0.0  0.000000  0.2  1.0  0.0"
      ]
     },
     "execution_count": 6,
     "metadata": {},
     "output_type": "execute_result"
    }
   ],
   "source": [
    "def get_transition_matrix(web_matrix):\n",
    "  result = web_matrix / web_matrix.sum(axis = 0)\n",
    "  return result\n",
    "\n",
    "T = get_transition_matrix(web_matrix)\n",
    "\n",
    "T"
   ]
  },
  {
   "cell_type": "markdown",
   "metadata": {
    "colab_type": "text",
    "id": "dd8XXNpbV4O7"
   },
   "source": [
    "Notice a few things:\n",
    "\n",
    "1.  Each column of $T$ gives a probability distribution (non-negative entries summing to 1). Such matrices are called (column) stochastic."
   ]
  },
  {
   "cell_type": "markdown",
   "metadata": {
    "colab_type": "text",
    "id": "-NhhmDBh5StW"
   },
   "source": [
    "2. \n",
    "Doing a plain old matrix-vector multiplication of $T$ with a \"one hot\" vector (with a 1 in the place of page $x$) will just give the column corresponding to page $x$, which is the vector of probabilities of being in all possible pages on the next iteration $t+1$ given that one is on page $x$ at time $t$.  "
   ]
  },
  {
   "cell_type": "markdown",
   "metadata": {
    "colab_type": "text",
    "id": "pJonJqAI58XH"
   },
   "source": [
    "3.  \n",
    "More generally given any vector $\\mathbf{p}$ giving a probability distribution (non-negative entries summing to 1) of being in each of the various pages, the vector \n",
    "$\\mathbf{p}' = T\\mathbf{p}$ is gives the probabilities of being on each of the pages at the next iteration given that one's current location is distributed according to $\\mathbf{p}$.  For example:"
   ]
  },
  {
   "cell_type": "code",
   "execution_count": 7,
   "metadata": {
    "colab": {
     "height": 119
    },
    "colab_type": "code",
    "collapsed": false,
    "executionInfo": {
     "elapsed": 527,
     "status": "ok",
     "timestamp": 1535665399029,
     "user": {
      "displayName": "Arthur Tilley",
      "photoUrl": "//lh5.googleusercontent.com/-deZhK1VrhDY/AAAAAAAAAAI/AAAAAAAAAgc/S4BZnbkHc44/s50-c-k-no/photo.jpg",
      "userId": "113676833971151847627"
     },
     "user_tz": 420
    },
    "id": "kWnXsyeF7XHZ",
    "outputId": "6ca9cf7a-5cb5-43a8-bf06-59e1519c87ae"
   },
   "outputs": [
    {
     "name": "stdout",
     "output_type": "stream",
     "text": [
      "a    0.2\n",
      "b    0.2\n",
      "c    0.2\n",
      "d    0.2\n",
      "e    0.2\n",
      "dtype: float64\n"
     ]
    }
   ],
   "source": [
    "N= web_matrix.shape[0]\n",
    "uniform_random_start = pd.Series(np.repeat(1./N, N), index = T.index)\n",
    "print uniform_random_start"
   ]
  },
  {
   "cell_type": "code",
   "execution_count": 8,
   "metadata": {
    "colab": {
     "height": 123
    },
    "colab_type": "code",
    "collapsed": false,
    "executionInfo": {
     "elapsed": 377,
     "status": "ok",
     "timestamp": 1535665407868,
     "user": {
      "displayName": "Arthur Tilley",
      "photoUrl": "//lh5.googleusercontent.com/-deZhK1VrhDY/AAAAAAAAAAI/AAAAAAAAAgc/S4BZnbkHc44/s50-c-k-no/photo.jpg",
      "userId": "113676833971151847627"
     },
     "user_tz": 420
    },
    "id": "su7oYu0V7ZWq",
    "outputId": "3caf82d5-cf67-4eb5-f558-bfaa842c8e90"
   },
   "outputs": [
    {
     "data": {
      "text/plain": [
       "a    0.040000\n",
       "b    0.206667\n",
       "c    0.206667\n",
       "d    0.306667\n",
       "e    0.240000\n",
       "dtype: float64"
      ]
     },
     "execution_count": 8,
     "metadata": {},
     "output_type": "execute_result"
    }
   ],
   "source": [
    "T.dot(uniform_random_start)"
   ]
  },
  {
   "cell_type": "markdown",
   "metadata": {
    "colab_type": "text",
    "id": "OstlOU-I70eF"
   },
   "source": [
    "4.  It follows that if the vector $\\mathbf{p}$ gives the probability that the surfer is at each of the pages at time $t$, then \n",
    "$$\\mathbf{p}'' = T(\\mathbf{p}') = T(T(\\mathbf{p})) = T^{2}\\mathbf{p}$$ gives the probability that the surfer is at each of the pages at $t+2$. \n",
    "\n"
   ]
  },
  {
   "cell_type": "markdown",
   "metadata": {
    "colab_type": "text",
    "id": "vuQvi6NU8T7m"
   },
   "source": [
    "5.  Even more generally, if the vector $\\mathbf{p}^{(0)}$ gives the probability that the surfer is at each of the pages at time $t$, then \n",
    "$$\\mathbf{p}^{(k)} = T^{k}\\mathbf{p}$$ gives the probability that the surfer is at each of the pages at $t+k$. "
   ]
  },
  {
   "cell_type": "markdown",
   "metadata": {
    "colab_type": "text",
    "id": "Z_FV7PiaWi8z"
   },
   "source": [
    "So perhaps it makes sense to assume that the surfer starts out on any page with equal probability, and let our \"scores\" be the limit (if it exists) of $\\mathbf{p}^{(k)}$ as $k\\rightarrow \\infty$.\n",
    "\n",
    "Let's try this out:"
   ]
  },
  {
   "cell_type": "code",
   "execution_count": 9,
   "metadata": {
    "colab": {},
    "colab_type": "code",
    "collapsed": true,
    "id": "bHkQwWI8jbM-"
   },
   "outputs": [],
   "source": [
    "def dist(k, M, initial_dist):\n",
    "  # The distribution of after \n",
    "  # k iterations \n",
    "  # given a transition matrix T and \n",
    "  # starting distribution initial_dist\n",
    "  dist = np.linalg.matrix_power(M, k).dot(initial_dist)\n",
    "  print pd.Series(np.round(dist, 4), index = initial_dist.index)"
   ]
  },
  {
   "cell_type": "code",
   "execution_count": 10,
   "metadata": {
    "colab": {
     "height": 119
    },
    "colab_type": "code",
    "collapsed": false,
    "executionInfo": {
     "elapsed": 344,
     "status": "ok",
     "timestamp": 1535665515839,
     "user": {
      "displayName": "Arthur Tilley",
      "photoUrl": "//lh5.googleusercontent.com/-deZhK1VrhDY/AAAAAAAAAAI/AAAAAAAAAgc/S4BZnbkHc44/s50-c-k-no/photo.jpg",
      "userId": "113676833971151847627"
     },
     "user_tz": 420
    },
    "id": "LVZiQh9-_FKD",
    "outputId": "2f978b27-ba28-40ab-b262-60373e886229"
   },
   "outputs": [
    {
     "name": "stdout",
     "output_type": "stream",
     "text": [
      "a    0.0400\n",
      "b    0.2067\n",
      "c    0.2067\n",
      "d    0.3067\n",
      "e    0.2400\n",
      "dtype: float64\n"
     ]
    }
   ],
   "source": [
    "dist(1, T, uniform_random_start)"
   ]
  },
  {
   "cell_type": "code",
   "execution_count": 11,
   "metadata": {
    "colab": {
     "height": 119
    },
    "colab_type": "code",
    "collapsed": false,
    "executionInfo": {
     "elapsed": 427,
     "status": "ok",
     "timestamp": 1535665531225,
     "user": {
      "displayName": "Arthur Tilley",
      "photoUrl": "//lh5.googleusercontent.com/-deZhK1VrhDY/AAAAAAAAAAI/AAAAAAAAAgc/S4BZnbkHc44/s50-c-k-no/photo.jpg",
      "userId": "113676833971151847627"
     },
     "user_tz": 420
    },
    "id": "Lmt7Fs9D-1Bw",
    "outputId": "794e47f6-2444-45bf-afc6-2882326aca8c"
   },
   "outputs": [
    {
     "name": "stdout",
     "output_type": "stream",
     "text": [
      "a    0.0413\n",
      "b    0.1302\n",
      "c    0.1302\n",
      "d    0.3502\n",
      "e    0.3480\n",
      "dtype: float64\n"
     ]
    }
   ],
   "source": [
    "dist(2, T, uniform_random_start)"
   ]
  },
  {
   "cell_type": "code",
   "execution_count": 12,
   "metadata": {
    "colab": {
     "height": 119
    },
    "colab_type": "code",
    "collapsed": false,
    "executionInfo": {
     "elapsed": 367,
     "status": "ok",
     "timestamp": 1535665538032,
     "user": {
      "displayName": "Arthur Tilley",
      "photoUrl": "//lh5.googleusercontent.com/-deZhK1VrhDY/AAAAAAAAAAI/AAAAAAAAAgc/S4BZnbkHc44/s50-c-k-no/photo.jpg",
      "userId": "113676833971151847627"
     },
     "user_tz": 420
    },
    "id": "4fdjjlb2-4Zt",
    "outputId": "45d2d651-4a0a-449c-f7f0-efa20d40c25d"
   },
   "outputs": [
    {
     "name": "stdout",
     "output_type": "stream",
     "text": [
      "a    0.0260\n",
      "b    0.0901\n",
      "c    0.0901\n",
      "d    0.4175\n",
      "e    0.3763\n",
      "dtype: float64\n"
     ]
    }
   ],
   "source": [
    "dist(3, T, uniform_random_start)"
   ]
  },
  {
   "cell_type": "code",
   "execution_count": 13,
   "metadata": {
    "colab": {
     "height": 119
    },
    "colab_type": "code",
    "collapsed": false,
    "executionInfo": {
     "elapsed": 340,
     "status": "ok",
     "timestamp": 1535665541933,
     "user": {
      "displayName": "Arthur Tilley",
      "photoUrl": "//lh5.googleusercontent.com/-deZhK1VrhDY/AAAAAAAAAAI/AAAAAAAAAgc/S4BZnbkHc44/s50-c-k-no/photo.jpg",
      "userId": "113676833971151847627"
     },
     "user_tz": 420
    },
    "id": "z-xa3M-v_SqN",
    "outputId": "e1a8e56d-7c6f-4ba7-a10b-e932b66f19ae"
   },
   "outputs": [
    {
     "name": "stdout",
     "output_type": "stream",
     "text": [
      "a    0.0000\n",
      "b    0.0000\n",
      "c    0.0000\n",
      "d    0.4884\n",
      "e    0.5116\n",
      "dtype: float64\n"
     ]
    }
   ],
   "source": [
    " dist(1000, T, uniform_random_start)"
   ]
  },
  {
   "cell_type": "code",
   "execution_count": 14,
   "metadata": {
    "colab": {
     "height": 119
    },
    "colab_type": "code",
    "collapsed": false,
    "executionInfo": {
     "elapsed": 711,
     "status": "ok",
     "timestamp": 1535665548454,
     "user": {
      "displayName": "Arthur Tilley",
      "photoUrl": "//lh5.googleusercontent.com/-deZhK1VrhDY/AAAAAAAAAAI/AAAAAAAAAgc/S4BZnbkHc44/s50-c-k-no/photo.jpg",
      "userId": "113676833971151847627"
     },
     "user_tz": 420
    },
    "id": "KQaKNidl_Wf9",
    "outputId": "d3a7dcd7-a0ec-4801-8714-d114168ad548"
   },
   "outputs": [
    {
     "name": "stdout",
     "output_type": "stream",
     "text": [
      "a    0.0000\n",
      "b    0.0000\n",
      "c    0.0000\n",
      "d    0.5116\n",
      "e    0.4884\n",
      "dtype: float64\n"
     ]
    }
   ],
   "source": [
    "dist(1001, T, uniform_random_start)"
   ]
  },
  {
   "cell_type": "markdown",
   "metadata": {
    "colab_type": "text",
    "id": "4B_b_a8_AQN0"
   },
   "source": [
    "We can see that what's happening here is that the surfer is getting trapped in a cycle between pages $d$ and $e$.    Indeed this is a more general case of the \"dead ends\" that we dealt with at the beginning!\n",
    "\n",
    "But then we might try to deal with the problem in a similar way:\n",
    "\n",
    "For instance we might stipulate that the surfer occasionally (say with probability $\\alpha$) gets bored clicking links and enters a random page's url into the browser.\n",
    "\n",
    "We can tweak our transition matrix $T$ above to represent this (while keeping the columns our matrix probability distributions) in the following way:"
   ]
  },
  {
   "cell_type": "code",
   "execution_count": 15,
   "metadata": {
    "colab": {
     "height": 204
    },
    "colab_type": "code",
    "collapsed": false,
    "executionInfo": {
     "elapsed": 399,
     "status": "ok",
     "timestamp": 1535665679309,
     "user": {
      "displayName": "Arthur Tilley",
      "photoUrl": "//lh5.googleusercontent.com/-deZhK1VrhDY/AAAAAAAAAAI/AAAAAAAAAgc/S4BZnbkHc44/s50-c-k-no/photo.jpg",
      "userId": "113676833971151847627"
     },
     "user_tz": 420
    },
    "id": "beS8xTMeCfI3",
    "outputId": "1bf83df6-74aa-4207-af17-3514dbbd6ae3"
   },
   "outputs": [
    {
     "data": {
      "text/html": [
       "<div>\n",
       "<table border=\"1\" class=\"dataframe\">\n",
       "  <thead>\n",
       "    <tr style=\"text-align: right;\">\n",
       "      <th></th>\n",
       "      <th>a</th>\n",
       "      <th>b</th>\n",
       "      <th>c</th>\n",
       "      <th>d</th>\n",
       "      <th>e</th>\n",
       "    </tr>\n",
       "  </thead>\n",
       "  <tbody>\n",
       "    <tr>\n",
       "      <th>a</th>\n",
       "      <td>0.02</td>\n",
       "      <td>0.02</td>\n",
       "      <td>0.2</td>\n",
       "      <td>0.02</td>\n",
       "      <td>0.02</td>\n",
       "    </tr>\n",
       "    <tr>\n",
       "      <th>b</th>\n",
       "      <td>0.47</td>\n",
       "      <td>0.32</td>\n",
       "      <td>0.2</td>\n",
       "      <td>0.02</td>\n",
       "      <td>0.02</td>\n",
       "    </tr>\n",
       "    <tr>\n",
       "      <th>c</th>\n",
       "      <td>0.47</td>\n",
       "      <td>0.32</td>\n",
       "      <td>0.2</td>\n",
       "      <td>0.02</td>\n",
       "      <td>0.02</td>\n",
       "    </tr>\n",
       "    <tr>\n",
       "      <th>d</th>\n",
       "      <td>0.02</td>\n",
       "      <td>0.32</td>\n",
       "      <td>0.2</td>\n",
       "      <td>0.02</td>\n",
       "      <td>0.92</td>\n",
       "    </tr>\n",
       "    <tr>\n",
       "      <th>e</th>\n",
       "      <td>0.02</td>\n",
       "      <td>0.02</td>\n",
       "      <td>0.2</td>\n",
       "      <td>0.92</td>\n",
       "      <td>0.02</td>\n",
       "    </tr>\n",
       "  </tbody>\n",
       "</table>\n",
       "</div>"
      ],
      "text/plain": [
       "      a     b    c     d     e\n",
       "a  0.02  0.02  0.2  0.02  0.02\n",
       "b  0.47  0.32  0.2  0.02  0.02\n",
       "c  0.47  0.32  0.2  0.02  0.02\n",
       "d  0.02  0.32  0.2  0.02  0.92\n",
       "e  0.02  0.02  0.2  0.92  0.02"
      ]
     },
     "execution_count": 15,
     "metadata": {},
     "output_type": "execute_result"
    }
   ],
   "source": [
    "def dampen(M, alpha):\n",
    "  N = M.shape[0] # Number of pages\n",
    "  result = (1-alpha)*M + alpha*(1./N)\n",
    "  return result\n",
    "\n",
    "D = dampen(T, alpha = .1)\n",
    "\n",
    "D"
   ]
  },
  {
   "cell_type": "code",
   "execution_count": 16,
   "metadata": {
    "colab": {
     "height": 119
    },
    "colab_type": "code",
    "collapsed": false,
    "executionInfo": {
     "elapsed": 512,
     "status": "ok",
     "timestamp": 1535665699004,
     "user": {
      "displayName": "Arthur Tilley",
      "photoUrl": "//lh5.googleusercontent.com/-deZhK1VrhDY/AAAAAAAAAAI/AAAAAAAAAgc/S4BZnbkHc44/s50-c-k-no/photo.jpg",
      "userId": "113676833971151847627"
     },
     "user_tz": 420
    },
    "id": "McmnJHqClFJJ",
    "outputId": "ad33cfba-a4d8-417d-ac13-0d6d8f4e282c"
   },
   "outputs": [
    {
     "name": "stdout",
     "output_type": "stream",
     "text": [
      "a    0.0319\n",
      "b    0.0661\n",
      "c    0.0661\n",
      "d    0.4232\n",
      "e    0.4128\n",
      "dtype: float64\n"
     ]
    }
   ],
   "source": [
    "dist(1000,  D, uniform_random_start)"
   ]
  },
  {
   "cell_type": "code",
   "execution_count": 17,
   "metadata": {
    "colab": {
     "height": 119
    },
    "colab_type": "code",
    "collapsed": false,
    "executionInfo": {
     "elapsed": 297,
     "status": "ok",
     "timestamp": 1535665703312,
     "user": {
      "displayName": "Arthur Tilley",
      "photoUrl": "//lh5.googleusercontent.com/-deZhK1VrhDY/AAAAAAAAAAI/AAAAAAAAAgc/S4BZnbkHc44/s50-c-k-no/photo.jpg",
      "userId": "113676833971151847627"
     },
     "user_tz": 420
    },
    "id": "6Tx7dERanQSY",
    "outputId": "1c839ec1-9ca6-4931-e820-532f1ae2d5a5"
   },
   "outputs": [
    {
     "name": "stdout",
     "output_type": "stream",
     "text": [
      "a    0.0319\n",
      "b    0.0661\n",
      "c    0.0661\n",
      "d    0.4232\n",
      "e    0.4128\n",
      "dtype: float64\n"
     ]
    }
   ],
   "source": [
    "dist(1001,  D, uniform_random_start)"
   ]
  },
  {
   "cell_type": "markdown",
   "metadata": {
    "colab_type": "text",
    "id": "OSHbYyIZBeO4"
   },
   "source": [
    "What if we try a different starting distribution?  Perhaps a one-hot distribution?"
   ]
  },
  {
   "cell_type": "code",
   "execution_count": 18,
   "metadata": {
    "colab": {
     "height": 119
    },
    "colab_type": "code",
    "collapsed": false,
    "executionInfo": {
     "elapsed": 641,
     "status": "ok",
     "timestamp": 1535665803978,
     "user": {
      "displayName": "Arthur Tilley",
      "photoUrl": "//lh5.googleusercontent.com/-deZhK1VrhDY/AAAAAAAAAAI/AAAAAAAAAgc/S4BZnbkHc44/s50-c-k-no/photo.jpg",
      "userId": "113676833971151847627"
     },
     "user_tz": 420
    },
    "id": "0sKhqJ_cCMy9",
    "outputId": "53096854-cac1-44fa-c0fc-0831845c38a6"
   },
   "outputs": [
    {
     "data": {
      "text/plain": [
       "a    0.0\n",
       "b    0.0\n",
       "c    0.0\n",
       "d    1.0\n",
       "e    0.0\n",
       "dtype: float64"
      ]
     },
     "execution_count": 18,
     "metadata": {},
     "output_type": "execute_result"
    }
   ],
   "source": [
    "start_at_d = pd.Series([0.,0.,0., 1., 0.], index = T.index)\n",
    "\n",
    "start_at_d"
   ]
  },
  {
   "cell_type": "code",
   "execution_count": 19,
   "metadata": {
    "colab": {
     "height": 119
    },
    "colab_type": "code",
    "collapsed": false,
    "executionInfo": {
     "elapsed": 521,
     "status": "ok",
     "timestamp": 1535665795007,
     "user": {
      "displayName": "Arthur Tilley",
      "photoUrl": "//lh5.googleusercontent.com/-deZhK1VrhDY/AAAAAAAAAAI/AAAAAAAAAgc/S4BZnbkHc44/s50-c-k-no/photo.jpg",
      "userId": "113676833971151847627"
     },
     "user_tz": 420
    },
    "id": "s6rmQ6w6BzIW",
    "outputId": "12cf9e53-c995-4372-9f2d-f9e988ec3072"
   },
   "outputs": [
    {
     "name": "stdout",
     "output_type": "stream",
     "text": [
      "a    0.0319\n",
      "b    0.0661\n",
      "c    0.0661\n",
      "d    0.4232\n",
      "e    0.4128\n",
      "dtype: float64\n"
     ]
    }
   ],
   "source": [
    "dist(1000,  D, start_at_d)"
   ]
  },
  {
   "cell_type": "code",
   "execution_count": 20,
   "metadata": {
    "colab": {
     "height": 119
    },
    "colab_type": "code",
    "collapsed": false,
    "executionInfo": {
     "elapsed": 630,
     "status": "ok",
     "timestamp": 1535665767503,
     "user": {
      "displayName": "Arthur Tilley",
      "photoUrl": "//lh5.googleusercontent.com/-deZhK1VrhDY/AAAAAAAAAAI/AAAAAAAAAgc/S4BZnbkHc44/s50-c-k-no/photo.jpg",
      "userId": "113676833971151847627"
     },
     "user_tz": 420
    },
    "id": "oZulzgD5tpAw",
    "outputId": "59e893a3-854f-410a-cff4-12b864ef61b8"
   },
   "outputs": [
    {
     "name": "stdout",
     "output_type": "stream",
     "text": [
      "a    0.0319\n",
      "b    0.0661\n",
      "c    0.0661\n",
      "d    0.4232\n",
      "e    0.4128\n",
      "dtype: float64\n"
     ]
    }
   ],
   "source": [
    "dist(1000,  D, uniform_random_start)"
   ]
  },
  {
   "cell_type": "markdown",
   "metadata": {
    "colab_type": "text",
    "id": "W_GWcPsmIGou"
   },
   "source": [
    "Which is the same distribution that we got from the uniform random start.\n",
    "\n",
    "How interesting.  \n",
    "\n",
    "Will they always be the same?  \n",
    "\n",
    "Are there any starting places (or distributions) from which the sequence of vectors does not converge at all?  \n",
    "\n",
    "Let's bracket this for a moment."
   ]
  },
  {
   "cell_type": "markdown",
   "metadata": {
    "colab_type": "text",
    "id": "V-dIccWuEr_0"
   },
   "source": [
    "You might have noticed that the vectors of scores $\\mathbf{p}^{(k)}=D^{k}\\mathbf{p}$ that we were generating above for large $k$ seemed to be \"converging,\" that is, for large $k$, $\\mathbf{p}^{(k)}$ was not much different from $\\mathbf{p}^{(k+1)} = D\\mathbf{p}^{(k)}$.\n",
    "\n",
    "Said differently, this means that, for large $k$, $\\mathbf{p}^{(k)}$ is *almost* a solution to the following equation\n",
    "\n",
    "$$p^* = Dp^*$$"
   ]
  },
  {
   "cell_type": "markdown",
   "metadata": {
    "colab_type": "text",
    "id": "BTWqOGaZIKCG"
   },
   "source": [
    "This is a satisfying result since we might also have the intuition that a page should have a high score if it is linked to by many other pages.  \n",
    "\n",
    "But not just any pages, high scoring pages!  \n",
    "\n",
    "Also preferably pages that link to fewer things rather than more things!  \n",
    "\n",
    "If only we could let each page's score be the weighted sum of all the scores of pages than linked to it, where the weights are determined by how many outgoing links each of those pages has.  You know, something like \n",
    "\n",
    "Scores $$s_{i} = \\sum_{j\\in In(i)}\\frac{ s_{j}}{N_{j}} = \\sum_{j = 1}^{n} \\frac{ \\mathbb{1}_{i,j}}{N_{j}}s_{j}$$\n",
    "\n",
    "with each $s_i>0$.\n",
    "\n",
    "Of course you can check that, putting all $n$ of these equations together as a single matrix equation gives\n",
    " \n",
    "$ \\mathbf{s} = T \\mathbf{s}$\n",
    "\n",
    "where $T$ here is exactly the $T$ from above.\n",
    "\n",
    "***\n",
    "\n",
    "Vectors like $\\mathbf{s}$ have a special name:  They are called *eigenvectors*.\n",
    "\n",
    "More formally, given a matrix $M\\in \\mathbb{R}^{n\\times n}$, $\\lambda \\in \\mathbb{R}$ and $\\mathbf{v} \\in \\mathbb{R}^{n}-\\{\\mathbf{0}\\}$ such that $M\\mathbf{v} = \\lambda\\mathbf{v}$, then we say that $\\mathbf{v}$ is an eigenvector for $M$ with eigenvalue $\\lambda$.  \n",
    "\n",
    "So it seems that we might want an eigenvector for our transition matrix $T$ for the eigenvalue $\\lambda = 1$. \n",
    "\n",
    "There are many highly optimized libraries for finding the eigenvectors of a matrix."
   ]
  },
  {
   "cell_type": "code",
   "execution_count": 21,
   "metadata": {
    "colab": {
     "height": 211
    },
    "colab_type": "code",
    "collapsed": false,
    "executionInfo": {
     "elapsed": 391,
     "status": "ok",
     "timestamp": 1535666062098,
     "user": {
      "displayName": "Arthur Tilley",
      "photoUrl": "//lh5.googleusercontent.com/-deZhK1VrhDY/AAAAAAAAAAI/AAAAAAAAAgc/S4BZnbkHc44/s50-c-k-no/photo.jpg",
      "userId": "113676833971151847627"
     },
     "user_tz": 420
    },
    "id": "mGZayCMsKIAf",
    "outputId": "bfec43a9-9f46-4077-de8b-8f31721c33bf"
   },
   "outputs": [
    {
     "name": "stdout",
     "output_type": "stream",
     "text": [
      "The eigenvalues are \n",
      "[-0.147, 0.6803, 1.0, -1.0, -0.0]\n",
      "\n",
      "\n",
      "A unit eigenvector for the eigenvalue 1. is\n",
      "a   -0.0\n",
      "b   -0.0\n",
      "c   -0.0\n",
      "d    0.5\n",
      "e    0.5\n",
      "dtype: float64\n"
     ]
    }
   ],
   "source": [
    "def try_compute_unit_eigenvector(M):\n",
    "  s = [round(x, 4) for x in np.linalg.eig(M)[0]]\n",
    "  print \"The eigenvalues are \"\n",
    "  print s\n",
    "  print \"\\n\"\n",
    "  if 1. not in s:\n",
    "    print \"1. is not an eigenvalue\"\n",
    "    return\n",
    "  else:\n",
    "    print \"A unit eigenvector for the eigenvalue 1. is\"\n",
    "    unit_index = s.index(1.)\n",
    "    v = np.linalg.eig(M)[1][:,unit_index ]\n",
    "    v_norm = np.round(v/v.sum(), 4)\n",
    "    print pd.Series(v_norm, index = M.index)\n",
    "\n",
    "    \n",
    "try_compute_unit_eigenvector(T)"
   ]
  },
  {
   "cell_type": "markdown",
   "metadata": {
    "colab_type": "text",
    "id": "cbSWmz4XKU_X"
   },
   "source": [
    "So unfortunately in this case we have a solution to $T\\mathbf{s} = \\mathbf{s}$ but none of them will have all positive components.\n",
    "\n",
    "So our next question might resonable be\n",
    "\n",
    "Under what conditions does a matrix have an eigenvector for the eigenvalue $\\lambda=1$ such that there is a corresponding eigenvector with all positive entries?\n",
    "\n",
    "We will not attempt to give necessary and sufficient conditions for this to be the case, but we will state one theorem which says that such a vector does exist for a large family of matrices:"
   ]
  },
  {
   "cell_type": "markdown",
   "metadata": {
    "colab_type": "text",
    "id": "MWKTQl3MeNqY"
   },
   "source": [
    "Perron's Theorem:\n",
    "\n",
    "[See the Wikipedia article](https://en.wikipedia.org/wiki/Perron%E2%80%93Frobenius_theorem)\n",
    "\n",
    "Let $M\\in \\mathbb{R}^{n\\times n}$ be an $n\\times n$ matrix where each component is positive ($M_{i,j}>0$ for $1\\leq i \\leq n$, $1 \\leq j \\leq n$). Suppose in addition that $M$ is *column stochastic*, meaning each of its columns sum to 1.  Then\n",
    "\n",
    "1.  $\\lambda = 1$ is an eigenvalue for $M$ and there is exactly one unit-length eigenvector $\\mathbf{v}$ (called the *Perron* vector) for $\\lambda =1$ with each component positive ($v_{i}>0$ for $1\\leq i \\leq n$).\n",
    "\n",
    "2.  The powers $M^k$ converge to the the following projection $P:\\mathbb{R}^{ n} \\rightarrow span(\\mathbf{v})$:\n",
    "\n",
    "$$lim_{k\\rightarrow \\infty}M^{k} = P = [\\mathbf{v} ~ \\mathbf{v} \\ldots \\mathbf{v}] = \\left[ \\begin{array}{cccc}\n",
    "v_{1} & v_{1} & \\ldots & v_{1} \\\\\n",
    "v_{2} & v_{2} & \\ldots & v_{2} \\\\\n",
    "\\vdots & \\vdots & \\ddots & \\vdots\\\\\n",
    "v_{n} & v_{n} & \\ldots & v_{n} \n",
    "\\end{array} \\right]$$\n"
   ]
  },
  {
   "cell_type": "markdown",
   "metadata": {
    "colab_type": "text",
    "id": "YfUCmnoSmRW6"
   },
   "source": [
    "In particular if follows that if $\\mathbf{p}^{(0)}\\in \\mathbb{R}^{n}$ is *any* distribution vector (non-negative components summing to 1.), then\n",
    "\n",
    "$$\\lim_{k\\rightarrow \\infty}\\mathbf{p}^{(k)}=  \\lim_{k\\rightarrow \\infty}M^{k} \\mathbf{p}^{(0)}= P \\mathbf{p}^{(0)} =  \\mathbf{v}.$$\n",
    "\n",
    "This gives answers to the reliability of the random surfer method as well as telling us that our damped matrices will admit an appropriate eigenvector to be used as scores, namely\n",
    "\n",
    "Given any damped (positive) matrix $D$ for the web graph: \n",
    "\n",
    "1.  The limiting distribution $\\lim_{k\\rightarrow \\infty}\\mathbf{p}^{(k)}$ of the random surfer exists,\n",
    "\n",
    "2.  It will be the same regardless of the random surfer's starting distribution $\\mathbf{p}^{(0)}$,\n",
    "\n",
    "3. It will be equal to the unique unit length eigenvector for $D$ for the eigenvalue $\\lambda =1$ that has positive entries."
   ]
  },
  {
   "cell_type": "code",
   "execution_count": 22,
   "metadata": {
    "colab": {
     "height": 204
    },
    "colab_type": "code",
    "collapsed": false,
    "executionInfo": {
     "elapsed": 931,
     "status": "ok",
     "timestamp": 1535666395979,
     "user": {
      "displayName": "Arthur Tilley",
      "photoUrl": "//lh5.googleusercontent.com/-deZhK1VrhDY/AAAAAAAAAAI/AAAAAAAAAgc/S4BZnbkHc44/s50-c-k-no/photo.jpg",
      "userId": "113676833971151847627"
     },
     "user_tz": 420
    },
    "id": "5QL2b8Puf8Q5",
    "outputId": "bcf94e4b-d304-47d2-ef56-058dd6fb955d"
   },
   "outputs": [
    {
     "name": "stdout",
     "output_type": "stream",
     "text": [
      "The eigenvalues are \n",
      "[-0.9, 1.0, 0.6123, -0.1323, 0.0]\n",
      "\n",
      "\n",
      "A unit eigenvector for the eigenvalue 1. is\n",
      "a    0.0319\n",
      "b    0.0661\n",
      "c    0.0661\n",
      "d    0.4232\n",
      "e    0.4128\n",
      "dtype: float64\n"
     ]
    }
   ],
   "source": [
    "try_compute_unit_eigenvector(D)"
   ]
  },
  {
   "cell_type": "code",
   "execution_count": 23,
   "metadata": {
    "colab": {
     "height": 119
    },
    "colab_type": "code",
    "collapsed": false,
    "executionInfo": {
     "elapsed": 489,
     "status": "ok",
     "timestamp": 1535666410882,
     "user": {
      "displayName": "Arthur Tilley",
      "photoUrl": "//lh5.googleusercontent.com/-deZhK1VrhDY/AAAAAAAAAAI/AAAAAAAAAgc/S4BZnbkHc44/s50-c-k-no/photo.jpg",
      "userId": "113676833971151847627"
     },
     "user_tz": 420
    },
    "id": "7_BBlwoGlIrP",
    "outputId": "76a5eeff-204a-4e28-cc48-e8d29331f6e3"
   },
   "outputs": [
    {
     "name": "stdout",
     "output_type": "stream",
     "text": [
      "a    0.0319\n",
      "b    0.0661\n",
      "c    0.0661\n",
      "d    0.4232\n",
      "e    0.4128\n",
      "dtype: float64\n"
     ]
    }
   ],
   "source": [
    "dist(1000, D, uniform_random_start)"
   ]
  },
  {
   "cell_type": "markdown",
   "metadata": {
    "colab_type": "text",
    "id": "MX-mcEb9nvfi"
   },
   "source": [
    "Discussion:  How would *you* compute $\\lim_{k\\rightarrow \\infty}\\mathbf{p}^{(k)}$ ?"
   ]
  },
  {
   "cell_type": "markdown",
   "metadata": {
    "colab_type": "text",
    "id": "hr1C0gSSnQ0H"
   },
   "source": [
    "![alt text](https://i.imgur.com/HBvOvkP.jpg)"
   ]
  }
 ],
 "metadata": {
  "anaconda-cloud": {},
  "colab": {
   "collapsed_sections": [],
   "name": "PageRank.ipynb",
   "provenance": [],
   "version": "0.3.2"
  },
  "kernelspec": {
   "display_name": "Python [default]",
   "language": "python",
   "name": "python2"
  },
  "language_info": {
   "codemirror_mode": {
    "name": "ipython",
    "version": 2
   },
   "file_extension": ".py",
   "mimetype": "text/x-python",
   "name": "python",
   "nbconvert_exporter": "python",
   "pygments_lexer": "ipython2",
   "version": "2.7.12"
  }
 },
 "nbformat": 4,
 "nbformat_minor": 0
}
